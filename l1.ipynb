{
 "cells": [
  {
   "cell_type": "markdown",
   "metadata": {},
   "source": [
    "# Buổi số 1 \n",
    "21/7/2024\n",
    "\n",
    "- Vấn đề liên quan đến lập trình Python -\n",
    "- Ý nghĩa lập trình Python\n",
    "\n",
    "**Bài 1: **\n",
    "Viết chương trình Python nhập vào 2 số a, b từ bàn phím. Nhập vào một trong hai phép toán “+” hoặc “–”. Thực hiện phép toán a + b hoặc a – b và in ra kết quả. \n",
    "\n",
    "\n"
   ]
  },
  {
   "cell_type": "code",
   "execution_count": 1,
   "metadata": {},
   "outputs": [],
   "source": [
    "a = int(input(\"Nhập số a: \"))\n",
    "b = int(input(\"Nhập số b: \"))\n",
    "sign = input(\"Dấu: \")\n",
    "if sign==\"+\":\n",
    "  print(a+b)\n",
    "else:\n",
    "  print(a-b)"
   ]
  }
 ],
 "metadata": {
  "kernelspec": {
   "display_name": "Python 3",
   "language": "python",
   "name": "python3"
  },
  "language_info": {
   "codemirror_mode": {
    "name": "ipython",
    "version": 3
   },
   "file_extension": ".py",
   "mimetype": "text/x-python",
   "name": "python",
   "nbconvert_exporter": "python",
   "pygments_lexer": "ipython3",
   "version": "3.12.0"
  }
 },
 "nbformat": 4,
 "nbformat_minor": 2
}
