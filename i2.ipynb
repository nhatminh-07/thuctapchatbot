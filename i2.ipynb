{
 "cells": [
  {
   "cell_type": "code",
   "execution_count": 19,
   "metadata": {},
   "outputs": [],
   "source": [
    "import math"
   ]
  },
  {
   "cell_type": "markdown",
   "metadata": {},
   "source": [
    "# Buổi số 2\n",
    "\n",
    "4/8/2024\n",
    "\n",
    "__Bài 1:__ Viết hàm cities() và hỏi "
   ]
  },
  {
   "cell_type": "code",
   "execution_count": 6,
   "metadata": {},
   "outputs": [
    {
     "name": "stdout",
     "output_type": "stream",
     "text": [
      "đúng\n"
     ]
    }
   ],
   "source": [
    "def cities():\n",
    "    ans = input(\"Có bao nhiêu thành phố ở Anh?\")\n",
    "    if ans==\"70\":\n",
    "        print(\"đúng\")\n",
    "    else: \n",
    "        print(\"sai\")\n",
    "\n",
    "cities()"
   ]
  },
  {
   "cell_type": "markdown",
   "metadata": {},
   "source": [
    "__Bài 2:__ Viết chương trình kiểm tra số nhập vào lớn hơn 10 hay ko?"
   ]
  },
  {
   "cell_type": "code",
   "execution_count": 10,
   "metadata": {},
   "outputs": [
    {
     "name": "stdout",
     "output_type": "stream",
     "text": [
      "số hợp lệ\n"
     ]
    }
   ],
   "source": [
    "n = int(input(\"Nhập vào số nguyên >10: \"))\n",
    "if n>10: print(\"số hợp lệ\")\n",
    "else: print(\"số ko hợp lệ\")"
   ]
  },
  {
   "cell_type": "markdown",
   "metadata": {},
   "source": [
    "__Bài 4:__"
   ]
  },
  {
   "cell_type": "code",
   "execution_count": null,
   "metadata": {},
   "outputs": [],
   "source": [
    "age = int(input(\"Nhập vào tuổi:\"))\n",
    "if age>=17: print(\"Bạn đang ở độ tuổi đẹp nhất\")"
   ]
  },
  {
   "cell_type": "markdown",
   "metadata": {},
   "source": [
    "__Bài 6:__ Viết chương trình chuyển đổi từ inch sang cm "
   ]
  },
  {
   "cell_type": "code",
   "execution_count": 11,
   "metadata": {},
   "outputs": [
    {
     "name": "stdout",
     "output_type": "stream",
     "text": [
      "21.1836\n"
     ]
    }
   ],
   "source": [
    "length = float(input(\"Nhập độ dài:\"))\n",
    "print(length * 2.54)"
   ]
  },
  {
   "cell_type": "markdown",
   "metadata": {},
   "source": [
    "__Bài 2.__ Viết chương trình Python nhập vào từ bàn phím hai số nguyên dương m và n (m\\<n), tính và đưa ra màn hình tổng các số lẻ trong phạm vi từ m đến n.\n"
   ]
  },
  {
   "cell_type": "code",
   "execution_count": 18,
   "metadata": {},
   "outputs": [
    {
     "name": "stdout",
     "output_type": "stream",
     "text": [
      "80\n"
     ]
    }
   ],
   "source": [
    "m = int(input(\"Nhập vào m: \"))\n",
    "n = int(input(\"Nhập vào n: \"))\n",
    "\n",
    "modd = m//2\n",
    "nodd = (n + n%2)//2\n",
    "\n",
    "print(nodd ** 2 - modd ** 2)"
   ]
  },
  {
   "cell_type": "markdown",
   "metadata": {},
   "source": [
    "Bài 3. Viết chương trình nhập vào một số dương a, tính toán và in ra chu vi và diện tích 3 hình tròn có bán kính lần lượt là: a, 2a, 3a.\n",
    "\n",
    "Bài 4. Nhập một dãy số và một số a bất kỳ . Hãy cho biết liệu số a có xuất hiện trong dãy số đó hay không?"
   ]
  },
  {
   "cell_type": "code",
   "execution_count": 23,
   "metadata": {},
   "outputs": [
    {
     "name": "stdout",
     "output_type": "stream",
     "text": [
      "C1:  6.28\n",
      "A1:  3.14\n",
      "C2:  12.57\n",
      "A2:  12.57\n",
      "C3:  18.85\n",
      "A3:  28.27\n"
     ]
    }
   ],
   "source": [
    "import math\n",
    "\n",
    "radius = float(input(\"Nhập bán kính: \"))\n",
    "pi = math.pi\n",
    "print(\"C1: \", round((radius * 1) * 2 * pi, 2))\n",
    "print(\"A1: \", round((radius * 1) ** 2 * pi, 2))\n",
    "print(\"C2: \", round((radius * 2) * 2 * pi, 2))\n",
    "print(\"A2: \", round((radius * 2) ** 2 * pi, 2))\n",
    "print(\"C3: \", round((radius * 3) * 2 * pi, 2))\n",
    "print(\"A3: \", round((radius * 3) ** 2 * pi, 2))"
   ]
  },
  {
   "cell_type": "code",
   "execution_count": null,
   "metadata": {},
   "outputs": [],
   "source": [
    "a = [int(v) for v in input().split()]\n",
    "\n",
    "# tìm kiếm tuần tự\n",
    "\n",
    "n = int(input())\n",
    "for aa in a:\n",
    "    if n == aa: \n",
    "        print(\"Yes\")\n",
    "        break \n",
    "\n",
    "print(\"No\")\n",
    "\n",
    "# tìm kiếm nhị phân"
   ]
  }
 ],
 "metadata": {
  "kernelspec": {
   "display_name": "Python 3",
   "language": "python",
   "name": "python3"
  },
  "language_info": {
   "codemirror_mode": {
    "name": "ipython",
    "version": 3
   },
   "file_extension": ".py",
   "mimetype": "text/x-python",
   "name": "python",
   "nbconvert_exporter": "python",
   "pygments_lexer": "ipython3",
   "version": "3.12.0"
  }
 },
 "nbformat": 4,
 "nbformat_minor": 2
}
