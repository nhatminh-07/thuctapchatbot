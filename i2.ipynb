{
 "cells": [
  {
   "cell_type": "markdown",
   "metadata": {},
   "source": [
    "# Buổi số 2\n",
    "\n",
    "4/8/2024\n",
    "\n",
    "__Bài 1:__ Viết hàm cities() và hỏi "
   ]
  },
  {
   "cell_type": "code",
   "execution_count": 6,
   "metadata": {},
   "outputs": [
    {
     "name": "stdout",
     "output_type": "stream",
     "text": [
      "đúng\n"
     ]
    }
   ],
   "source": [
    "def cities():\n",
    "    ans = input(\"Có bao nhiêu thành phố ở Anh?\")\n",
    "    if ans==\"70\":\n",
    "        print(\"đúng\")\n",
    "    else: \n",
    "        print(\"sai\")\n",
    "\n",
    "cities()"
   ]
  },
  {
   "cell_type": "markdown",
   "metadata": {},
   "source": [
    "__Bài 2:__ Viết chương trình kiểm tra số nhập vào lớn hơn 10 hay ko?"
   ]
  },
  {
   "cell_type": "code",
   "execution_count": 10,
   "metadata": {},
   "outputs": [
    {
     "name": "stdout",
     "output_type": "stream",
     "text": [
      "số hợp lệ\n"
     ]
    }
   ],
   "source": [
    "n = int(input(\"Nhập vào số nguyên >10: \"))\n",
    "if n>10: print(\"số hợp lệ\")\n",
    "else: print(\"số ko hợp lệ\")"
   ]
  }
 ],
 "metadata": {
  "kernelspec": {
   "display_name": "Python 3",
   "language": "python",
   "name": "python3"
  },
  "language_info": {
   "codemirror_mode": {
    "name": "ipython",
    "version": 3
   },
   "file_extension": ".py",
   "mimetype": "text/x-python",
   "name": "python",
   "nbconvert_exporter": "python",
   "pygments_lexer": "ipython3",
   "version": "3.12.0"
  }
 },
 "nbformat": 4,
 "nbformat_minor": 2
}
